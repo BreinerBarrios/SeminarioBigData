{
  "nbformat": 4,
  "nbformat_minor": 0,
  "metadata": {
    "colab": {
      "provenance": [],
      "include_colab_link": true
    },
    "kernelspec": {
      "name": "python3",
      "display_name": "Python 3"
    },
    "language_info": {
      "name": "python"
    }
  },
  "cells": [
    {
      "cell_type": "markdown",
      "metadata": {
        "id": "view-in-github",
        "colab_type": "text"
      },
      "source": [
        "<a href=\"https://colab.research.google.com/github/BreinerBarrios/SeminarioBigData/blob/main/Lab3.ipynb\" target=\"_parent\"><img src=\"https://colab.research.google.com/assets/colab-badge.svg\" alt=\"Open In Colab\"/></a>"
      ]
    },
    {
      "cell_type": "code",
      "source": [
        "from google.colab import drive\n",
        "drive.mount('/content/drive')"
      ],
      "metadata": {
        "id": "dMTtJVbGLtWp",
        "colab": {
          "base_uri": "https://localhost:8080/"
        },
        "outputId": "e8c4648b-4a58-4a3d-9207-69bf16ed9de0"
      },
      "execution_count": null,
      "outputs": [
        {
          "output_type": "stream",
          "name": "stdout",
          "text": [
            "Mounted at /content/drive\n"
          ]
        }
      ]
    },
    {
      "cell_type": "code",
      "source": [
        "!pip install pyspark"
      ],
      "metadata": {
        "colab": {
          "base_uri": "https://localhost:8080/"
        },
        "id": "GlA8ysqvRjtd",
        "outputId": "1c803a95-9d18-4236-c8c3-ebac21fbbac6"
      },
      "execution_count": null,
      "outputs": [
        {
          "output_type": "stream",
          "name": "stdout",
          "text": [
            "Collecting pyspark\n",
            "  Downloading pyspark-3.5.1.tar.gz (317.0 MB)\n",
            "\u001b[2K     \u001b[90m━━━━━━━━━━━━━━━━━━━━━━━━━━━━━━━━━━━━━━━━\u001b[0m \u001b[32m317.0/317.0 MB\u001b[0m \u001b[31m3.2 MB/s\u001b[0m eta \u001b[36m0:00:00\u001b[0m\n",
            "\u001b[?25h  Preparing metadata (setup.py) ... \u001b[?25l\u001b[?25hdone\n",
            "Requirement already satisfied: py4j==0.10.9.7 in /usr/local/lib/python3.10/dist-packages (from pyspark) (0.10.9.7)\n",
            "Building wheels for collected packages: pyspark\n",
            "  Building wheel for pyspark (setup.py) ... \u001b[?25l\u001b[?25hdone\n",
            "  Created wheel for pyspark: filename=pyspark-3.5.1-py2.py3-none-any.whl size=317488491 sha256=1b929c4c8de2f4002dc6fbaba98aa94e52e24b34ab5d9ad7bbac627487f71220\n",
            "  Stored in directory: /root/.cache/pip/wheels/80/1d/60/2c256ed38dddce2fdd93be545214a63e02fbd8d74fb0b7f3a6\n",
            "Successfully built pyspark\n",
            "Installing collected packages: pyspark\n",
            "Successfully installed pyspark-3.5.1\n"
          ]
        }
      ]
    },
    {
      "cell_type": "code",
      "source": [
        "from pyspark.sql import SparkSession\n",
        "from pyspark.sql.functions import regexp_replace, col\n",
        "\n",
        "# Iniciar una sesión de Spark\n",
        "spark = SparkSession.builder.appName(\"DataCleaning\").getOrCreate()\n",
        "\n",
        "# Cargar los datos desde el archivo CSV con el delimitador adecuado\n",
        "# ruta Breiner /content/drive/MyDrive/BigData/Lab3/housing_fincaraiz_2.csv\n",
        "# ruta Johan /content/drive/MyDrive/Colab Notebooks/data/Copia de housing_fincaraiz.csv\n",
        "file_path = \"/content/drive/MyDrive/Colab Notebooks/data/Copia de housing_fincaraiz.csv\"\n",
        "\n",
        "df = spark.read.csv(file_path, header=True, inferSchema=True, sep=\";\")\n",
        "\n",
        "# Mostrar los nombres de las columnas originales\n",
        "original_columns = df.columns\n",
        "print(\"Columnas ajustadas:\", original_columns)\n",
        "print(\"Número de columnas:\", len(original_columns))\n",
        "\n",
        "# Renombrar las columnas\n",
        "new_column_names = [\n",
        "    \"habitaciones\", \"baños\", \"parqueaderos\", \"area_construida\", \"area_privada\", \"estrato\",\n",
        "    \"estado\", \"antiguedad\", \"administracion\", \"precio_m2\", \"ascensor\", \"circuito_cerrado_de_TV\",\n",
        "    \"parqueadero_visitantes\", \"porteria_recepcion\", \"zonas_verdes\", \"salon_comunal\", \"balcon\",\n",
        "    \"barra_estilo_americano\", \"calentador\", \"chimenea\", \"citofono\", \"cocina_integral\", \"terraza\",\n",
        "    \"vigilancia\", \"parques_cercanos\", \"estudio\", \"patio\", \"deposito_bodega\", \"nombre\", \"ubicacion\", \"precio\"\n",
        "]\n",
        "\n",
        "# Asegurarse de que la cantidad de nuevos nombres de columnas coincida con las columnas originales\n",
        "if len(original_columns) != len(new_column_names):\n",
        "    print(\"The number of columns does not match. Adjust the new_column_names list.\")\n",
        "    print(f\"Original Columns ({len(original_columns)}): {original_columns}\")\n",
        "    print(f\"New Column Names ({len(new_column_names)}): {new_column_names}\")\n",
        "else:\n",
        "    # Renombrar las columnas del DataFrame\n",
        "    df = df.toDF(*new_column_names)\n",
        "\n",
        "    # Limpieza de los datos\n",
        "    # Remover caracteres especiales y espacios adicionales\n",
        "    df_cleaned = df.select(\n",
        "        [regexp_replace(col(c), r\"[\\Â\\Ã\\€\\@]\", \"\").alias(c) for c in df.columns]\n",
        "    )\n",
        "\n",
        "   # Mostrar todos los datos en forma de tabla\n",
        "    df.show(truncate=False)\n",
        "\n"
      ],
      "metadata": {
        "colab": {
          "base_uri": "https://localhost:8080/"
        },
        "id": "t50bgSLQN8Ex",
        "outputId": "d64d80bc-1c65-4b4f-f308-668e4e94a838"
      },
      "execution_count": null,
      "outputs": [
        {
          "output_type": "stream",
          "name": "stdout",
          "text": [
            "Columnas ajustadas: ['habitaciones,baños,parqueaderos,area_construida,area_privada,estrato,estado,antiguedad,administracion,precio_m2,Ascensor,Circuito cerrado de TV,Parqueadero Visitantes,Portería / Recepción,Zonas Verdes,Salón Comunal,Balcón,Barra estilo americano,Calentador,Chimenea,Citófono,Cocina Integral,Terraza,Vigilancia,Parques cercanos,Estudio,Patio,Depósito / Bodega,nombre,ubicacion,precio']\n",
            "Número de columnas: 1\n",
            "The number of columns does not match. Adjust the new_column_names list.\n",
            "Original Columns (1): ['habitaciones,baños,parqueaderos,area_construida,area_privada,estrato,estado,antiguedad,administracion,precio_m2,Ascensor,Circuito cerrado de TV,Parqueadero Visitantes,Portería / Recepción,Zonas Verdes,Salón Comunal,Balcón,Barra estilo americano,Calentador,Chimenea,Citófono,Cocina Integral,Terraza,Vigilancia,Parques cercanos,Estudio,Patio,Depósito / Bodega,nombre,ubicacion,precio']\n",
            "New Column Names (31): ['habitaciones', 'baños', 'parqueaderos', 'area_construida', 'area_privada', 'estrato', 'estado', 'antiguedad', 'administracion', 'precio_m2', 'ascensor', 'circuito_cerrado_de_TV', 'parqueadero_visitantes', 'porteria_recepcion', 'zonas_verdes', 'salon_comunal', 'balcon', 'barra_estilo_americano', 'calentador', 'chimenea', 'citofono', 'cocina_integral', 'terraza', 'vigilancia', 'parques_cercanos', 'estudio', 'patio', 'deposito_bodega', 'nombre', 'ubicacion', 'precio']\n"
          ]
        }
      ]
    },
    {
      "cell_type": "code",
      "source": [],
      "metadata": {
        "id": "gWtGPNYjNNlA"
      },
      "execution_count": null,
      "outputs": []
    }
  ]
}